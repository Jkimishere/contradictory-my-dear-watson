{
 "cells": [
  {
   "cell_type": "code",
   "execution_count": 4,
   "metadata": {},
   "outputs": [
    {
     "data": {
      "text/plain": [
       "{'input_ids': tensor([[  101, 61694, 10133, 11356,   102]])}"
      ]
     },
     "execution_count": 4,
     "metadata": {},
     "output_type": "execute_result"
    }
   ],
   "source": [
    "from transformers import AutoTokenizer, AutoModelForMaskedLM\n",
    "\n",
    "from transformers import logging\n",
    "logging.set_verbosity_error()\n",
    "\n",
    "\n",
    "\n",
    "tokenizer = AutoTokenizer.from_pretrained(\"bert-base-multilingual-cased\")\n",
    "\n",
    "model = AutoModelForMaskedLM.from_pretrained(\"bert-base-multilingual-cased\")\n",
    "\n",
    "tokenizer('hello world', return_tensors='pt', return_attention_mask=False, return_token_type_ids=False)"
   ]
  },
  {
   "cell_type": "code",
   "execution_count": 2,
   "metadata": {},
   "outputs": [
    {
     "name": "stderr",
     "output_type": "stream",
     "text": [
      "D:\\Temp\\ipykernel_41216\\3411465135.py:12: SettingWithCopyWarning: \n",
      "A value is trying to be set on a copy of a slice from a DataFrame\n",
      "\n",
      "See the caveats in the documentation: https://pandas.pydata.org/pandas-docs/stable/user_guide/indexing.html#returning-a-view-versus-a-copy\n",
      "  data['text'][i] = data['premise'][i] + '. ' + df['hypothesis'][i]\n"
     ]
    },
    {
     "name": "stdout",
     "output_type": "stream",
     "text": [
      "and these comments were considered in formulating the interim rules.. The rules developed in the interim were put together with these comments in mind. 0\n"
     ]
    },
    {
     "ename": "NameError",
     "evalue": "name 'tokenizer' is not defined",
     "output_type": "error",
     "traceback": [
      "\u001b[1;31m---------------------------------------------------------------------------\u001b[0m",
      "\u001b[1;31mNameError\u001b[0m                                 Traceback (most recent call last)",
      "Cell \u001b[1;32mIn[2], line 22\u001b[0m\n\u001b[0;32m     20\u001b[0m \u001b[39mprint\u001b[39m(data[\u001b[39m'\u001b[39m\u001b[39mtext\u001b[39m\u001b[39m'\u001b[39m][\u001b[39m0\u001b[39m], data[\u001b[39m'\u001b[39m\u001b[39mlabel\u001b[39m\u001b[39m'\u001b[39m][\u001b[39m0\u001b[39m])\n\u001b[0;32m     21\u001b[0m \u001b[39mfor\u001b[39;00m i, item \u001b[39min\u001b[39;00m data\u001b[39m.\u001b[39miterrows():\n\u001b[1;32m---> 22\u001b[0m     data[\u001b[39m'\u001b[39m\u001b[39mtext\u001b[39m\u001b[39m'\u001b[39m][i] \u001b[39m=\u001b[39m tokenizer(data[\u001b[39m'\u001b[39m\u001b[39mtext\u001b[39m\u001b[39m'\u001b[39m][i], return_tensors\u001b[39m=\u001b[39m\u001b[39m'\u001b[39m\u001b[39mpt\u001b[39m\u001b[39m'\u001b[39m, return_attention_mask\u001b[39m=\u001b[39m\u001b[39mTrue\u001b[39;00m)\n\u001b[0;32m     23\u001b[0m     \u001b[39mif\u001b[39;00m i \u001b[39m%\u001b[39m \u001b[39m1000\u001b[39m \u001b[39m==\u001b[39m \u001b[39m0\u001b[39m:\n\u001b[0;32m     24\u001b[0m         \u001b[39mprint\u001b[39m(i)\n",
      "\u001b[1;31mNameError\u001b[0m: name 'tokenizer' is not defined"
     ]
    }
   ],
   "source": [
    "import pandas as pd\n",
    "\n",
    "df = pd.read_csv('./data/train.csv')\n",
    "\n",
    "\n",
    "data = df\n",
    "\n",
    "data['text'] = df.apply(lambda x: '', axis=1)\n",
    "\n",
    "\n",
    "for i, row in data.iterrows():\n",
    "    data['text'][i] = data['premise'][i] + '. ' + df['hypothesis'][i]\n",
    "\n",
    "data.drop(['premise'], axis=1, inplace=True)\n",
    "data.drop(['hypothesis'], axis=1, inplace=True)\n",
    "data.drop(['language'], axis=1, inplace=True)\n",
    "data.drop(['lang_abv'], axis=1, inplace=True)\n",
    "\n",
    "\n",
    "print(data['text'][0], data['label'][0])\n",
    "for i, item in data.iterrows():\n",
    "    data['text'][i] = tokenizer(data['text'][i], return_tensors='pt', return_attention_mask=True)\n",
    "    if i % 1000 == 0:\n",
    "        print(i)\n",
    "\n",
    "data.to_pickle('./data/processed_data')\n",
    "\n",
    "\n"
   ]
  },
  {
   "cell_type": "code",
   "execution_count": 48,
   "metadata": {},
   "outputs": [
    {
     "data": {
      "text/plain": [
       "{'input_ids': tensor([[  101, 10111, 11762, 61565, 10309, 14289, 10106, 29659, 12141, 10105,\n",
       "         63313, 23123,   119,   119, 10117, 23123, 14628, 10106, 10105, 63313,\n",
       "         10309, 14499, 14229, 10169, 11762, 61565, 10106, 21133,   119,   102]])}"
      ]
     },
     "execution_count": 48,
     "metadata": {},
     "output_type": "execute_result"
    }
   ],
   "source": [
    "data = pd.read_pickle('./data/processed_data')\n",
    "\n",
    "data['text'][0]"
   ]
  }
 ],
 "metadata": {
  "kernelspec": {
   "display_name": ".venv",
   "language": "python",
   "name": "python3"
  },
  "language_info": {
   "codemirror_mode": {
    "name": "ipython",
    "version": 3
   },
   "file_extension": ".py",
   "mimetype": "text/x-python",
   "name": "python",
   "nbconvert_exporter": "python",
   "pygments_lexer": "ipython3",
   "version": "3.10.0"
  },
  "orig_nbformat": 4,
  "vscode": {
   "interpreter": {
    "hash": "1d1f9ae673b5374a3c62194e2812c1694235292d901521ed36fa4eb0b4538bf0"
   }
  }
 },
 "nbformat": 4,
 "nbformat_minor": 2
}
